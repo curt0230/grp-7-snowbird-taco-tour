{
 "cells": [
  {
   "cell_type": "code",
   "execution_count": 1,
   "id": "b0381b1f",
   "metadata": {},
   "outputs": [],
   "source": [
    "#import dependencies\n",
    "import pandas as pd\n",
    "import numpy as np\n",
    "import sqlalchemy as db\n",
    "import config\n",
    "import requests\n",
    "import csv\n",
    "import googlemaps\n",
    "import datetime\n",
    "\n",
    "\n",
    "from pathlib import Path\n",
    "from dateutil.parser import parse\n",
    "from datetime import date\n",
    "from datetime import datetime\n",
    "from sqlalchemy.ext.automap import automap_base\n",
    "from sqlalchemy.orm import Session\n",
    "from sqlalchemy import create_engine, func, inspect, Integer, Table, Column, MetaData\n",
    "from sqlalchemy.orm import Session"
   ]
  },
  {
   "cell_type": "code",
   "execution_count": 2,
   "id": "cf508aab",
   "metadata": {},
   "outputs": [],
   "source": [
    "# Create SQLite db\n",
    "restaurants_db = \"restaurants.sqlite\"\n",
    "connector = (f\"sqlite:///{restaurants_db}\")\n",
    "\n",
    "# Create engine\n",
    "engine = create_engine(connector)\n",
    "\n",
    "# Declare a Base using `automap_base()`\n",
    "Base = automap_base()\n",
    "\n",
    "# Use the Base class to reflect the database tables\n",
    "Base.prepare(engine, reflect=True)\n",
    "\n",
    "# Print all of the classes (tables) mapped to the Base\n",
    "Base.classes.keys()\n",
    "\n",
    "# Create the inspector and connect it to the engine\n",
    "inspector = inspect(engine)"
   ]
  },
  {
   "cell_type": "code",
   "execution_count": 3,
   "id": "564df2ac",
   "metadata": {},
   "outputs": [],
   "source": [
    "def verify_inserts(tablename):\n",
    "    # Using the inspector to print the column names within the 'restaurants' table and its types\n",
    "    columns = inspector.get_columns(tablename)\n",
    "    for column in columns:\n",
    "        print(column[\"name\"], column[\"type\"])\n",
    "\n",
    "    # Create metadata access to the object\n",
    "    meta_data = db.MetaData(bind=engine)\n",
    "    db.MetaData.reflect(meta_data)\n",
    "\n",
    "    # Get the table from the metadata object\n",
    "    restaurants = meta_data.tables['Restaurants']\n",
    "\n",
    "    # Select and print rowcount\n",
    "    result = db.select([db.func.count()]).select_from(restaurants).scalar()\n",
    "    print(\"Row Count:\", result)"
   ]
  },
  {
   "cell_type": "code",
   "execution_count": 4,
   "id": "ab0e5807",
   "metadata": {},
   "outputs": [],
   "source": [
    "def geocode(add):\n",
    "    g = gmaps_key.geocode(add)\n",
    "    lat = g[0][\"geometry\"][\"location\"][\"lat\"]\n",
    "    lng = g[0][\"geometry\"][\"location\"][\"lng\"]\n",
    "    return (lat, lng)"
   ]
  },
  {
   "cell_type": "code",
   "execution_count": 5,
   "id": "857db600",
   "metadata": {},
   "outputs": [],
   "source": [
    "def convert_to_date(date_string):\n",
    "#     date = parse(date_string)\n",
    "    date = datetime.strptime(date_string, '%Y-%m-%d')\n",
    "    return date"
   ]
  },
  {
   "cell_type": "code",
   "execution_count": 6,
   "id": "13335457",
   "metadata": {},
   "outputs": [],
   "source": [
    "def add_change_date(df):\n",
    "    df[\"change_date\"] = date.today()\n",
    "    return df"
   ]
  },
  {
   "cell_type": "code",
   "execution_count": 7,
   "id": "3c85c211",
   "metadata": {},
   "outputs": [],
   "source": [
    "def str_to_bool(df, col):\n",
    "#     df[col].notnull()\n",
    "    return col.map({'True': True, 1: True, 0: False, 'False': False, 'Na':False, 'no':False,})"
   ]
  },
  {
   "cell_type": "markdown",
   "id": "a6504414",
   "metadata": {},
   "source": [
    "## Clean and load business data for mexican_restaurants.csv"
   ]
  },
  {
   "cell_type": "code",
   "execution_count": 8,
   "id": "ca6bc323",
   "metadata": {},
   "outputs": [],
   "source": [
    "def etl_mex_restaurants(df, gmaps_key, dbg):\n",
    "    # Limit to Mexican restaurants only as that is our dashboard focus\n",
    "    # Saves about 12,000 API calls and probably a few dineros!\n",
    "\n",
    "    # Create a formatted address string for geocoding\n",
    "    df['full_address'] = df[['address', 'city', \"state\",'postal_code']].agg(', '.join, axis=1).str.replace('\"','')\n",
    "\n",
    "    # Run the address through the geocoder function and apply the results to a new column called \"geocoded\"\n",
    "    df['geocoded'] = df['full_address'].apply(geocode)\n",
    "\n",
    "    # # Apply the new geocodes to the restaurants dataframe\n",
    "    df[['latitude', 'longitude']] = pd.DataFrame(df['geocoded'].tolist(), index=df.index)\n",
    "\n",
    "    # For \"normal\" mode only, debug mode limits dataset to cut down on API calls\n",
    "    if dbg == \"N\": \n",
    "        df.to_csv(\"mexican_restaurants.csv\")\n",
    "        \n",
    "    return df.head(100)"
   ]
  },
  {
   "cell_type": "markdown",
   "id": "73ff2e8e",
   "metadata": {},
   "source": [
    "## Load and clean yelp_business.csv"
   ]
  },
  {
   "cell_type": "code",
   "execution_count": 9,
   "id": "59493d27",
   "metadata": {},
   "outputs": [],
   "source": [
    "def etl_restaurants(dbg, api_key):\n",
    "    # Load business into df\n",
    "    business_path = Path('../data_zipped/yelp_business.csv.zip', low_memory=False)\n",
    "    business_df = pd.read_csv(business_path)\n",
    "\n",
    "    # Filter businesses to restaurants only\n",
    "    business_df = business_df[business_df[\"categories\"].str.contains(\"Restaurant\")]\n",
    "    \n",
    "    # Drop rows where is_open = 0\n",
    "    business_df = business_df[business_df.is_open == 0]\n",
    "\n",
    "    # Add flag \"is_mexican_restaurant\"\n",
    "    business_df[\"is_mexican_restaurant\"] = np.where(business_df.categories.str.contains(\"Mex\"),True,False).astype(bool)\n",
    "    \n",
    "    # Remove is_open, neighborhood, and categories\n",
    "    business_df = business_df.drop(['is_open', 'neighborhood', 'categories'], axis=1)\n",
    "\n",
    "    # Fill missing values with empty string\n",
    "    business_df = business_df.fillna('')\n",
    "\n",
    "    # Add change date\n",
    "    add_change_date(business_df)\n",
    "    \n",
    "    # Filter input df to only geocode Mexican Restaurants to save on API calls\n",
    "    mex_restaurants_df = business_df[business_df[\"is_mexican_restaurant\"] == 1]\n",
    "\n",
    "    # For \"debug\" mode only, reduces API calls\n",
    "    if dbg == 'Y':\n",
    "        mex_restaurants_df = mex_restaurants_df.head()\n",
    "\n",
    "    etl_mex_restaurants(mex_restaurants_df, gmaps_key, dbg)\n",
    "    \n",
    "    # Write to SQLite db\n",
    "    business_df.to_sql('Restaurants', engine, if_exists='replace')\n",
    "    \n",
    "    return business_df\n"
   ]
  },
  {
   "cell_type": "markdown",
   "id": "e9da041f",
   "metadata": {},
   "source": [
    "## Load and clean Reviews"
   ]
  },
  {
   "cell_type": "code",
   "execution_count": 10,
   "id": "53e9f9eb",
   "metadata": {},
   "outputs": [],
   "source": [
    "def etl_reviews(df):\n",
    "# Load comments into df\n",
    "    reviews_path = Path('../data_zipped/yelp_tip.csv.zip', low_memory=False)\n",
    "    reviews_df = pd.read_csv(reviews_path)\n",
    "\n",
    "    # Drop rows with missing values\n",
    "    reviews_df = reviews_df.dropna(axis=0,how=\"any\")\n",
    "\n",
    "    # Convert \"date\" column to a date datatype\n",
    "    reviews_df['date'] = reviews_df['date'].apply(convert_to_date)\n",
    "    \n",
    "    # Merge with business_df to filter data set to relavent rows\n",
    "    reviews_df = business_df.set_index('business_id').join(reviews_df.set_index('business_id'), rsuffix='_review')\n",
    "\n",
    "    # Eliminate unneeded columns\n",
    "    reviews_df = reviews_df.loc[:,\"text\":\"user_id\"]\n",
    "    \n",
    "    # Name dataframe index and write to table\n",
    "    reviews_df['review_id'] = reviews_df.index\n",
    "    \n",
    "    # Reorder columns so key is in the first position\n",
    "    reviews_df.insert(0, 'review_id', reviews_df.pop('review_id'))\n",
    "    \n",
    "    # Add ChangeDate\n",
    "    add_change_date(reviews_df)\n",
    "    \n",
    "    # Write to database\n",
    "    reviews_df.to_sql('Reviews', engine, if_exists='replace')\n",
    "\n",
    "    # All done, release memory\n",
    "    del reviews_df"
   ]
  },
  {
   "cell_type": "markdown",
   "id": "e4edddf4",
   "metadata": {},
   "source": [
    "## Load and clean yelp_business_attributes.csv"
   ]
  },
  {
   "cell_type": "code",
   "execution_count": 11,
   "id": "dbbf471b",
   "metadata": {},
   "outputs": [],
   "source": [
    "def etl_restaurant_attributes(df):\n",
    "    # Load business attributes into df\n",
    "    attributes_path = Path('../data_zipped/yelp_business_attributes.csv.zip', low_memory=False)\n",
    "    attributes_df = pd.read_csv(attributes_path)\n",
    "\n",
    "    # Rearrange column names (not columns) due to defect in source data set\n",
    "    col_list = list(attributes_df)\n",
    "    col_list.insert(2, col_list.pop())\n",
    "    attributes_df.columns = col_list\n",
    "\n",
    "    # Merge with business_df to filter data set to relavent rows\n",
    "    restaurant_attribute_df = business_df.set_index('business_id').join(attributes_df.set_index('business_id'), rsuffix='_attr')\n",
    "\n",
    "    # Release memory\n",
    "    del attributes_df\n",
    "\n",
    "    # List of category columns\n",
    "        # Column: Alcohol, Values: ['Na' 'full_bar' 'beer_and_wine' 'none']\n",
    "        # Column: NoiseLevel, Values: ['Na' 'average' 'very_loud' 'quiet' 'loud']\n",
    "        # Column: RestaurantsAttire, Values: ['Na' 'casual']\n",
    "        # Column: WiFi, Values: ['Na' 'free' 'paid' 'no']\n",
    "        # Column: Smoking, Values: ['Na' 'no' 'outdoor' 'yes']\n",
    "        # Column: BYOBCorkage, Values: ['Na' 'yes_free' 'no' 'yes_corkage']\n",
    "    string_cols = [\"Alcohol\",\"NoiseLevel\",\"RestaurantsAttire\",\"WiFi\",\"Smoking\",\"BYOBCorkage\"]\n",
    "\n",
    "    # Convert 'Na' to 0 and then convert col to int\n",
    "    # Column: RestaurantsPriceRange2, Values: ['Na' '1' '3' '2' '4']\n",
    "    restaurant_attribute_df[\"RestaurantsPriceRange2\"] = restaurant_attribute_df[\"RestaurantsPriceRange2\"].replace(to_replace='Na', value=0)\n",
    "\n",
    "    # Convert remaining \"Na\" to \"no\", affects these columns:\n",
    "    restaurant_attribute_df[string_cols] = restaurant_attribute_df[string_cols].replace(to_replace='Na', value='no')\n",
    "\n",
    "    # For column in the dataframe:\n",
    "    for col in col_list[1:]:\n",
    "        # Skip category columns for string conversion\n",
    "        if col not in string_cols:\n",
    "            # Skip columns already typed boolean \n",
    "            if col not in list(restaurant_attribute_df.select_dtypes(include=['bool']).columns):\n",
    "                # Convert to boolean\n",
    "                if(restaurant_attribute_df.loc[:,col].nunique()) <= 3:\n",
    "                    restaurant_attribute_df[col] = str_to_bool(restaurant_attribute_df,restaurant_attribute_df[col])\n",
    "\n",
    "        # Eliminate columns with only one distinct value\n",
    "        if(restaurant_attribute_df.loc[:,col].nunique()) == 1:\n",
    "            restaurant_attribute_df.pop(col)\n",
    "\n",
    "    # Send entire business_df to csv for ML; ML workflow will take care of encoding and imputation from here\n",
    "    restaurant_attribute_df.to_csv('../data_zipped/restaurants.csv')\n",
    "\n",
    "    # Eliminate business_df elements\n",
    "    attribute_df = restaurant_attribute_df.loc[:,\"change_date\":\"DietaryRestrictions_vegetarian\"]\n",
    "\n",
    "    # Drop rows without attributes\n",
    "    attribute_df = attribute_df.dropna(axis=0,how=\"any\")\n",
    "\n",
    "    # Write to SQLite db\n",
    "    attribute_df.to_sql('RestaurantAttributes', engine, if_exists='replace')"
   ]
  },
  {
   "cell_type": "code",
   "execution_count": 12,
   "id": "a5dee6a6",
   "metadata": {},
   "outputs": [
    {
     "name": "stdout",
     "output_type": "stream",
     "text": [
      "index BIGINT\n",
      "business_id TEXT\n",
      "name TEXT\n",
      "address TEXT\n",
      "city TEXT\n",
      "state TEXT\n",
      "postal_code TEXT\n",
      "latitude FLOAT\n",
      "longitude FLOAT\n",
      "stars FLOAT\n",
      "review_count BIGINT\n",
      "is_mexican_restaurant BOOLEAN\n",
      "change_date DATE\n",
      "Row Count: 14225\n"
     ]
    }
   ],
   "source": [
    "# Dbg flag indicates if a debug execution or not, and will conditionally skip certain tasks both in this cell and within the geocode function\n",
    "# This is so that the code can be executed in \"demo\" mode and will reduce Google API calls to avoid charges\n",
    "dbg = \"Y\"\n",
    "\n",
    "# Set API key from config file\n",
    "gmaps_key = googlemaps.Client(key=config.API_KEY)\n",
    "\n",
    "# Run Restaurants ETL\n",
    "business_df = etl_restaurants(dbg,gmaps_key)\n",
    "\n",
    "# Validate success\n",
    "verify_inserts('Restaurants')"
   ]
  },
  {
   "cell_type": "code",
   "execution_count": 13,
   "id": "5d9f7cbe",
   "metadata": {},
   "outputs": [
    {
     "name": "stdout",
     "output_type": "stream",
     "text": [
      "business_id TEXT\n",
      "review_id TEXT\n",
      "text TEXT\n",
      "date DATETIME\n",
      "likes FLOAT\n",
      "user_id TEXT\n",
      "change_date DATE\n",
      "Row Count: 14225\n"
     ]
    }
   ],
   "source": [
    "# Run Reviews ETL\n",
    "etl_reviews(business_df)\n",
    "\n",
    "# Validate success\n",
    "verify_inserts('Reviews')"
   ]
  },
  {
   "cell_type": "code",
   "execution_count": 14,
   "id": "ef7bbc72",
   "metadata": {},
   "outputs": [
    {
     "name": "stdout",
     "output_type": "stream",
     "text": [
      "business_id TEXT\n",
      "change_date DATE\n",
      "ByAppointmentOnly BOOLEAN\n",
      "BusinessAcceptsCreditCards BOOLEAN\n",
      "BusinessParking_garage BOOLEAN\n",
      "BusinessParking_street BOOLEAN\n",
      "BusinessParking_validated BOOLEAN\n",
      "BusinessParking_lot BOOLEAN\n",
      "BusinessParking_valet BOOLEAN\n",
      "RestaurantsPriceRange2 TEXT\n",
      "GoodForKids BOOLEAN\n",
      "WheelchairAccessible BOOLEAN\n",
      "BikeParking BOOLEAN\n",
      "Alcohol TEXT\n",
      "HasTV BOOLEAN\n",
      "NoiseLevel TEXT\n",
      "RestaurantsAttire TEXT\n",
      "Music_dj BOOLEAN\n",
      "Music_karaoke BOOLEAN\n",
      "RestaurantsGoodForGroups BOOLEAN\n",
      "Caters BOOLEAN\n",
      "WiFi TEXT\n",
      "RestaurantsReservations BOOLEAN\n",
      "RestaurantsTakeOut BOOLEAN\n",
      "HappyHour BOOLEAN\n",
      "GoodForDancing BOOLEAN\n",
      "RestaurantsTableService BOOLEAN\n",
      "OutdoorSeating BOOLEAN\n",
      "RestaurantsDelivery BOOLEAN\n",
      "BestNights_monday BOOLEAN\n",
      "BestNights_friday BOOLEAN\n",
      "BestNights_wednesday BOOLEAN\n",
      "BestNights_thursday BOOLEAN\n",
      "BestNights_sunday BOOLEAN\n",
      "BestNights_saturday BOOLEAN\n",
      "GoodForMeal_dessert BOOLEAN\n",
      "GoodForMeal_latenight BOOLEAN\n",
      "GoodForMeal_lunch BOOLEAN\n",
      "GoodForMeal_dinner BOOLEAN\n",
      "GoodForMeal_breakfast BOOLEAN\n",
      "GoodForMeal_brunch BOOLEAN\n",
      "CoatCheck BOOLEAN\n",
      "Smoking TEXT\n",
      "DriveThru BOOLEAN\n",
      "BYOBCorkage TEXT\n",
      "DietaryRestrictions_dairy-free BOOLEAN\n",
      "DietaryRestrictions_gluten-free BOOLEAN\n",
      "DietaryRestrictions_vegan BOOLEAN\n",
      "DietaryRestrictions_kosher BOOLEAN\n",
      "DietaryRestrictions_halal BOOLEAN\n",
      "DietaryRestrictions_soy-free BOOLEAN\n",
      "DietaryRestrictions_vegetarian BOOLEAN\n",
      "Row Count: 14225\n"
     ]
    }
   ],
   "source": [
    "# Run RestaurantAttributes ETL\n",
    "etl_restaurant_attributes(business_df)\n",
    "\n",
    "# Validate success\n",
    "verify_inserts('RestaurantAttributes')"
   ]
  },
  {
   "cell_type": "code",
   "execution_count": 15,
   "id": "e0828a54",
   "metadata": {},
   "outputs": [],
   "source": []
  }
 ],
 "metadata": {
  "kernelspec": {
   "display_name": "Python 3 (ipykernel)",
   "language": "python",
   "name": "python3"
  },
  "language_info": {
   "codemirror_mode": {
    "name": "ipython",
    "version": 3
   },
   "file_extension": ".py",
   "mimetype": "text/x-python",
   "name": "python",
   "nbconvert_exporter": "python",
   "pygments_lexer": "ipython3",
   "version": "3.9.7"
  },
  "varInspector": {
   "cols": {
    "lenName": 16,
    "lenType": 16,
    "lenVar": 40
   },
   "kernels_config": {
    "python": {
     "delete_cmd_postfix": "",
     "delete_cmd_prefix": "del ",
     "library": "var_list.py",
     "varRefreshCmd": "print(var_dic_list())"
    },
    "r": {
     "delete_cmd_postfix": ") ",
     "delete_cmd_prefix": "rm(",
     "library": "var_list.r",
     "varRefreshCmd": "cat(var_dic_list()) "
    }
   },
   "types_to_exclude": [
    "module",
    "function",
    "builtin_function_or_method",
    "instance",
    "_Feature"
   ],
   "window_display": false
  }
 },
 "nbformat": 4,
 "nbformat_minor": 5
}
